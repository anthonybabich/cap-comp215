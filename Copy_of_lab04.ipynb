{
  "cells": [
    {
      "cell_type": "markdown",
      "metadata": {
        "id": "view-in-github",
        "colab_type": "text"
      },
      "source": [
        "<a href=\"https://colab.research.google.com/github/anthonybabich/cap-comp215/blob/main/Copy_of_lab04.ipynb\" target=\"_parent\"><img src=\"https://colab.research.google.com/assets/colab-badge.svg\" alt=\"Open In Colab\"/></a>"
      ]
    },
    {
      "cell_type": "markdown",
      "source": [
        "COMP 215 - LAB 4 (Graphs)\n",
        "-------------------------\n",
        "#### Name:Anthony Babich\n",
        "#### Date:1/25/2023\n",
        "\n",
        "This lab exercise is an introduction to Graphs and Graph Analysis using [NetworkX](https://networkx.org/documentation/stable/).\n",
        "\n",
        "**New Python concepts**:\n",
        "  * **NetworkX** is an open-source package.  It provides a `Graph` object to represent a graph.\n",
        "  * Built-in `random` module provides algorithms for generating pseudo-random sequences\n",
        "  * [Generator expression](https://towardsdatascience.com/understanding-generator-expressions-in-python-fe0c4534619) - similar to a list comprehension, but faster and using much less memory!\n",
        "\n",
        "**Credits**:\n",
        "    Code examples based on [Think Complexity, 2nd edition](https://thinkcomplex.com).\n",
        "    Copyright 2016 Allen Downey, [MIT License](http://opensource.org/licenses/MIT)\n",
        "\n",
        "As usual, the first code cell simply imports all the modules we'll be using..."
      ],
      "metadata": {
        "collapsed": false,
        "pycharm": {
          "name": "#%% md\n"
        },
        "id": "8vi_DpWbTN9f"
      }
    },
    {
      "cell_type": "code",
      "execution_count": 2,
      "outputs": [],
      "source": [
        "import math\n",
        "import random\n",
        "import statistics\n",
        "from timeit import timeit\n",
        "\n",
        "import matplotlib.pyplot as plt\n",
        "import networkx as nx"
      ],
      "metadata": {
        "pycharm": {
          "name": "#%%\n"
        },
        "id": "8S25FmqITN9i"
      }
    },
    {
      "cell_type": "markdown",
      "source": [
        "## Directed graph\n",
        "\n",
        "The first example is a directed graph that represents a social network with four nodes."
      ],
      "metadata": {
        "collapsed": false,
        "pycharm": {
          "name": "#%% md\n"
        },
        "id": "4gXWkZTyTN9j"
      }
    },
    {
      "cell_type": "code",
      "execution_count": 3,
      "outputs": [
        {
          "output_type": "execute_result",
          "data": {
            "text/plain": [
              "['John', 'Alice', 'Bob', 'Chuck']"
            ]
          },
          "metadata": {},
          "execution_count": 3
        }
      ],
      "source": [
        "social_network = nx.DiGraph()\n",
        "social_network.add_node('John')\n",
        "social_network.add_node('Alice')\n",
        "social_network.add_node('Bob')\n",
        "social_network.add_node('Chuck')\n",
        "list(social_network.nodes())"
      ],
      "metadata": {
        "pycharm": {
          "name": "#%%\n"
        },
        "id": "crwLNQOpTN9k",
        "outputId": "99ba8e74-63e1-4ccf-91f3-db16b9ef3224",
        "colab": {
          "base_uri": "https://localhost:8080/"
        }
      }
    },
    {
      "cell_type": "markdown",
      "source": [
        "Add some edges between nodes to represent the \"Follows\" relationship (e.g., Alice \"follows\" Bob)"
      ],
      "metadata": {
        "collapsed": false,
        "pycharm": {
          "name": "#%% md\n"
        },
        "id": "SI_IAoVdTN9l"
      }
    },
    {
      "cell_type": "code",
      "execution_count": 4,
      "outputs": [
        {
          "output_type": "execute_result",
          "data": {
            "text/plain": [
              "[('John', 'Bob'),\n",
              " ('John', 'Alice'),\n",
              " ('Alice', 'Bob'),\n",
              " ('Alice', 'Chuck'),\n",
              " ('Bob', 'Alice'),\n",
              " ('Bob', 'Chuck')]"
            ]
          },
          "metadata": {},
          "execution_count": 4
        }
      ],
      "source": [
        "social_network.add_edge('Alice', 'Bob')\n",
        "social_network.add_edge('Alice', 'Chuck')\n",
        "social_network.add_edge('Bob', 'Alice')\n",
        "social_network.add_edge('Bob', 'Chuck')\n",
        "social_network.add_edge('John','Bob')\n",
        "social_network.add_edge('John','Alice')\n",
        "list(social_network.edges())"
      ],
      "metadata": {
        "pycharm": {
          "name": "#%%\n"
        },
        "id": "qU9xM5ONTN9l",
        "outputId": "726bb35b-33cb-49db-9a49-ea897eee3d0a",
        "colab": {
          "base_uri": "https://localhost:8080/"
        }
      }
    },
    {
      "cell_type": "markdown",
      "source": [
        "And here's how to draw the graph.\n",
        "Modify the draw parameters to see how to customize the display [[docs](https://networkx.org/documentation/stable/reference/generated/networkx.drawing.nx_pylab.draw_networkx.html)]"
      ],
      "metadata": {
        "collapsed": false,
        "pycharm": {
          "name": "#%% md\n"
        },
        "id": "mfCHNqdUTN9m"
      }
    },
    {
      "cell_type": "code",
      "execution_count": 5,
      "outputs": [
        {
          "output_type": "display_data",
          "data": {
            "text/plain": [
              "<Figure size 432x288 with 1 Axes>"
            ],
            "image/png": "[encoded data removed]"
          },
          "metadata": {}
        }
      ],
      "source": [
        "nx.draw_circular(social_network,\n",
        "                 node_color='#bbddff',\n",
        "                 node_size=2000,\n",
        "                 with_labels=True)\n",
        "plt.axis('equal')\n",
        "plt.show()"
      ],
      "metadata": {
        "pycharm": {
          "name": "#%%\n"
        },
        "id": "A3bmg5xMTN9m",
        "outputId": "affa6488-e8f2-46b1-a50a-6f336ce8550d",
        "colab": {
          "base_uri": "https://localhost:8080/",
          "height": 319
        }
      }
    },
    {
      "cell_type": "markdown",
      "source": [
        "### Exercise 1:\n",
        "Add at least 2 additional nodes (users) and a few more edges (follows relations) and re-draw the graph.\n",
        "Don't modify the code above, instead, re-create and draw a new graph with the extra nodes."
      ],
      "metadata": {
        "collapsed": false,
        "pycharm": {
          "name": "#%% md\n"
        },
        "id": "CosgufRUTN9n"
      }
    },
    {
      "cell_type": "code",
      "source": [
        "social_network = nx.DiGraph()\n",
        "social_network.add_node('John')\n",
        "social_network.add_node('Alice')\n",
        "social_network.add_node('Bob')\n",
        "social_network.add_node('Chuck')\n",
        "social_network.add_node('Joe')\n",
        "social_network.add_node('Tony')\n",
        "list(social_network.nodes())\n",
        "\n",
        "social_network.add_edge('Alice', 'Bob')\n",
        "social_network.add_edge('Alice', 'Chuck')\n",
        "social_network.add_edge('Bob', 'Alice')\n",
        "social_network.add_edge('Bob', 'Chuck')\n",
        "social_network.add_edge('John','Bob')\n",
        "social_network.add_edge('John','Alice')\n",
        "social_network.add_edge('Joe','Tony')\n",
        "social_network.add_edge('Joe','John')\n",
        "social_network.add_edge('Chuck','John')\n",
        "social_network.add_edge('Chuck','Tony')\n",
        "social_network.add_edge('Alice', 'Tony')\n",
        "list(social_network.edges())\n",
        "\n",
        "nx.draw_circular(social_network,\n",
        "                 node_color='#bbddff',\n",
        "                 node_size=2000,\n",
        "                 with_labels=True)\n",
        "plt.axis('equal')\n",
        "plt.show()\n",
        "\n"
      ],
      "metadata": {
        "id": "bR957oXrWvkk",
        "outputId": "8e9f0859-fa98-4468-fa74-66384aefd256",
        "colab": {
          "base_uri": "https://localhost:8080/",
          "height": 319
        }
      },
      "execution_count": 6,
      "outputs": [
        {
          "output_type": "display_data",
          "data": {
            "text/plain": [
              "<Figure size 432x288 with 1 Axes>"
            ],
            "image/png": "[encoded data removed]"
          },
          "metadata": {}
        }
      ]
    },
    {
      "cell_type": "markdown",
      "source": [
        "## Undirected graph\n",
        "\n",
        "The second example is an undirected graph that represents cities and the driving times between them.\n",
        "\n",
        "`locations` is a dictionary that maps from each city to a spatial coordinate and\n",
        "`drive_times` is a dictionary that maps a pair of cities to the driving time in minutes between them."
      ],
      "metadata": {
        "collapsed": false,
        "pycharm": {
          "name": "#%% md\n"
        },
        "id": "iEtyJoi_TN9o"
      }
    },
    {
      "cell_type": "code",
      "execution_count": 7,
      "outputs": [
        {
          "output_type": "execute_result",
          "data": {
            "text/plain": [
              "'From North Van at (5, 5) the drive time to Burnaby is 20 minutes.'"
            ],
            "application/vnd.google.colaboratory.intrinsic+json": {
              "type": "string"
            }
          },
          "metadata": {},
          "execution_count": 7
        }
      ],
      "source": [
        "locations = dict(NorthVan=(5, 5),\n",
        "                 Burnaby=(7, 1),\n",
        "                 Vancouver=(0, 0),  # position Vancouver at the centre of the universe, of course ;-)\n",
        "                 Richmond=(-1, -4))\n",
        "\n",
        "drive_times = {('NorthVan', 'Burnaby'): 20,\n",
        "               ('NorthVan', 'Vancouver'): 35,\n",
        "               ('Burnaby', 'Vancouver'): 15,\n",
        "               ('Vancouver', 'Richmond'): 25}\n",
        "\n",
        "f\"From North Van at {locations['NorthVan']} the drive time to Burnaby is {drive_times[('NorthVan', 'Burnaby')]} minutes.\""
      ],
      "metadata": {
        "pycharm": {
          "name": "#%%\n"
        },
        "id": "DnL02GtTTN9o",
        "outputId": "acb62c63-6f67-4dbd-cefd-14969f584051",
        "colab": {
          "base_uri": "https://localhost:8080/",
          "height": 36
        }
      }
    },
    {
      "cell_type": "markdown",
      "source": [
        "Now we can use the keys in `locations` to add nodes to a graph,\n",
        "and the `drive_times` keys to define the edges between them\n",
        "Notice how when a `dict` object is treated as a sequence (rather than a mapping), it is a sequence of it's **keys**."
      ],
      "metadata": {
        "collapsed": false,
        "pycharm": {
          "name": "#%% md\n"
        },
        "id": "L-4p5keiTN9p"
      }
    },
    {
      "cell_type": "code",
      "execution_count": 8,
      "outputs": [
        {
          "output_type": "execute_result",
          "data": {
            "text/plain": [
              "(NodeView(('NorthVan', 'Burnaby', 'Vancouver', 'Richmond')),\n",
              " EdgeView([('NorthVan', 'Burnaby'), ('NorthVan', 'Vancouver'), ('Burnaby', 'Vancouver'), ('Vancouver', 'Richmond')]))"
            ]
          },
          "metadata": {},
          "execution_count": 8
        }
      ],
      "source": [
        "cities = nx.Graph()\n",
        "cities.add_nodes_from(locations)\n",
        "cities.add_edges_from(drive_times)\n",
        "\n",
        "cities.nodes(), cities.edges()"
      ],
      "metadata": {
        "pycharm": {
          "name": "#%%\n"
        },
        "id": "oY0d54HJTN9p",
        "outputId": "434e929d-05a3-4786-b655-2c53857f2beb",
        "colab": {
          "base_uri": "https://localhost:8080/"
        }
      }
    },
    {
      "cell_type": "markdown",
      "source": [
        "And we can draw the graph using `locations` to arrange nodes spatially and with `drive_times` to label the edges."
      ],
      "metadata": {
        "collapsed": false,
        "pycharm": {
          "name": "#%% md\n"
        },
        "id": "x1wkVsbWTN9q"
      }
    },
    {
      "cell_type": "code",
      "execution_count": 9,
      "outputs": [
        {
          "output_type": "display_data",
          "data": {
            "text/plain": [
              "<Figure size 432x288 with 1 Axes>"
            ],
            "image/png": "[encoded data removed]"
          },
          "metadata": {}
        }
      ],
      "source": [
        "nx.draw(cities, locations,\n",
        "        node_color='#99ff99',\n",
        "        node_shape='s',\n",
        "        node_size=3000,\n",
        "        with_labels=True)\n",
        "\n",
        "nx.draw_networkx_edge_labels(cities, locations,\n",
        "                             edge_labels=drive_times)\n",
        "\n",
        "plt.axis('equal')\n",
        "plt.show()"
      ],
      "metadata": {
        "pycharm": {
          "name": "#%%\n"
        },
        "id": "_qsgg_hbTN9q",
        "outputId": "183f2dbb-c4e5-40e6-da06-0fda4d5381ec",
        "colab": {
          "base_uri": "https://localhost:8080/",
          "height": 319
        }
      }
    },
    {
      "cell_type": "markdown",
      "source": [
        "### Exercise 2\n",
        "Add at least 2 additional nodes (cities) and edges (drive times) and re-draw the graph.\n",
        "Improve the data in your version of the graph by looking up estimated / average drive times.\n",
        "Don't modify the code above - re-develop a complete solution with your additions / changes in the code block below."
      ],
      "metadata": {
        "collapsed": false,
        "pycharm": {
          "name": "#%% md\n"
        },
        "id": "aT7p-IOrTN9q"
      }
    },
    {
      "cell_type": "code",
      "execution_count": 10,
      "outputs": [
        {
          "output_type": "execute_result",
          "data": {
            "text/plain": [
              "{('NorthVan', 'Burnaby'): Text(6.0, 3.0, '20'),\n",
              " ('NorthVan', 'Vancouver'): Text(2.5, 2.5, '35'),\n",
              " ('Burnaby', 'Vancouver'): Text(3.5, 0.5, '15'),\n",
              " ('Vancouver', 'Richmond'): Text(-0.5, -2.0, '25'),\n",
              " ('Squamish', 'Vancouver'): Text(-1.0, 1.5, '30'),\n",
              " ('Surrey', 'Vancouver'): Text(3.0, 3.0, '40')}"
            ]
          },
          "metadata": {},
          "execution_count": 10
        },
        {
          "output_type": "display_data",
          "data": {
            "text/plain": [
              "<Figure size 432x288 with 1 Axes>"
            ],
            "image/png": "[encoded data removed]"
          },
          "metadata": {}
        }
      ],
      "source": [
        "locations = dict(NorthVan=(5, 5),\n",
        "                 Burnaby=(7, 1),\n",
        "                 Vancouver=(0, 0),  # position Vancouver at the centre of the universe, of course ;-)\n",
        "                 Richmond=(-1, -4),\n",
        "                 Squamish=(-2,3),\n",
        "                 Surrey = (6,6))\n",
        "\n",
        "drive_times = {('NorthVan', 'Burnaby'): 20,\n",
        "               ('NorthVan', 'Vancouver'): 35,\n",
        "               ('Burnaby', 'Vancouver'): 15,\n",
        "               ('Vancouver', 'Richmond'): 25,\n",
        "               ('Squamish', 'Vancouver'):30,\n",
        "               ('Surrey', 'Vancouver'): 40}\n",
        "\n",
        "cities = nx.Graph()\n",
        "cities.add_nodes_from(locations)\n",
        "cities.add_edges_from(drive_times)\n",
        "\n",
        "cities.nodes(), cities.edges()\n",
        "\n",
        "nx.draw(cities, locations,\n",
        "        node_color='#99ff99',\n",
        "        node_shape='s',\n",
        "        node_size=3000,\n",
        "        with_labels=True)\n",
        "\n",
        "nx.draw_networkx_edge_labels(cities, locations,\n",
        "                             edge_labels=drive_times)\n"
      ],
      "metadata": {
        "pycharm": {
          "name": "#%%\n"
        },
        "id": "_3yEZUINTN9r",
        "colab": {
          "base_uri": "https://localhost:8080/",
          "height": 423
        },
        "outputId": "71034f5c-42af-4088-a913-4e38cb995c42"
      }
    },
    {
      "cell_type": "markdown",
      "source": [
        "## Complete graph\n",
        "\n",
        "To make a complete graph, we need an edge between every distinct pair of nodes.\n",
        "The algorithm below creates the complete set of distinct, undirected pairs from a list of input objects.\n",
        "**Be sure you understand how this algorithm works!**  If you need to re-write it as a loop and replace zip with index logic, do it."
      ],
      "metadata": {
        "collapsed": false,
        "pycharm": {
          "name": "#%% md\n"
        },
        "id": "r47sKyFfTN9r"
      }
    },
    {
      "cell_type": "code",
      "execution_count": 11,
      "outputs": [
        {
          "output_type": "execute_result",
          "data": {
            "text/plain": [
              "[('w', 'x'), ('x', 'y'), ('y', 'z'), ('w', 'y'), ('x', 'z'), ('w', 'z')]"
            ]
          },
          "metadata": {},
          "execution_count": 11
        }
      ],
      "source": [
        "def all_pairs(objects):\n",
        "    \"\"\" Return a generator with the complete set of distinct object pairs, as 2-tuples, from the given iterable of objects \"\"\"\n",
        "    return ((a, b) for i in range(1, len(objects)) for a,b in zip(objects, objects[i:]))\n",
        "\n",
        "list( all_pairs(('w', 'x', 'y', 'z')) )"
      ],
      "metadata": {
        "pycharm": {
          "name": "#%%\n"
        },
        "id": "tRm3gseTTN9r",
        "outputId": "79913945-e95b-4a19-c406-cb22bf18bf84",
        "colab": {
          "base_uri": "https://localhost:8080/"
        }
      }
    },
    {
      "cell_type": "markdown",
      "source": [
        "`make_complete_graph` makes a `Graph` with the given number of nodes and edges between each distinct pair of nodes."
      ],
      "metadata": {
        "collapsed": false,
        "pycharm": {
          "name": "#%% md\n"
        },
        "id": "Wz45RuCaTN9r"
      }
    },
    {
      "cell_type": "code",
      "execution_count": 12,
      "outputs": [],
      "source": [
        "def make_complete_graph(n):\n",
        "    \"\"\" Return a \"complete\" Graph with n nodes labeled 0 .. n-1 \"\"\"\n",
        "    graph = nx.Graph()\n",
        "    labels = range(n)\n",
        "    graph.add_nodes_from(labels)\n",
        "    graph.add_edges_from(all_pairs(labels))\n",
        "    return graph"
      ],
      "metadata": {
        "pycharm": {
          "name": "#%%\n"
        },
        "id": "CTzG-OWtTN9s"
      }
    },
    {
      "cell_type": "code",
      "execution_count": 13,
      "outputs": [
        {
          "output_type": "execute_result",
          "data": {
            "text/plain": [
              "'Complete Graph has 10 nodes and 45 edges'"
            ],
            "application/vnd.google.colaboratory.intrinsic+json": {
              "type": "string"
            }
          },
          "metadata": {},
          "execution_count": 13
        }
      ],
      "source": [
        "complete = make_complete_graph(10)\n",
        "f'Complete Graph has {complete.number_of_nodes()} nodes and {complete.number_of_edges()} edges'"
      ],
      "metadata": {
        "pycharm": {
          "name": "#%%\n"
        },
        "id": "DmClJEjfTN9s",
        "outputId": "b124661c-c310-4962-f5b8-b8f019070e50",
        "colab": {
          "base_uri": "https://localhost:8080/",
          "height": 36
        }
      }
    },
    {
      "cell_type": "code",
      "execution_count": 14,
      "outputs": [
        {
          "output_type": "display_data",
          "data": {
            "text/plain": [
              "<Figure size 432x288 with 1 Axes>"
            ],
            "image/png": "[encoded data removed]"
          },
          "metadata": {}
        }
      ],
      "source": [
        "nx.draw_circular(complete,\n",
        "                 node_color='#ffaa99',\n",
        "                 node_size=1000,\n",
        "                 with_labels=True)\n",
        "plt.show()"
      ],
      "metadata": {
        "pycharm": {
          "name": "#%%\n"
        },
        "id": "1r1Jz6WoTN9s",
        "outputId": "17855b42-4096-44eb-cff9-89522b43ffa3",
        "colab": {
          "base_uri": "https://localhost:8080/",
          "height": 319
        }
      }
    },
    {
      "cell_type": "markdown",
      "source": [
        "The `neighbors` method of a Graph object returns the nodes with an edge a given node.  In a complete graph, that is all other nodes!"
      ],
      "metadata": {
        "collapsed": false,
        "pycharm": {
          "name": "#%% md\n"
        },
        "id": "OsK6D3ikTN9t"
      }
    },
    {
      "cell_type": "code",
      "execution_count": 15,
      "outputs": [
        {
          "output_type": "execute_result",
          "data": {
            "text/plain": [
              "'Neighbours of node 3:  [1, 2, 3, 4, 5, 6, 7, 8, 9]'"
            ],
            "application/vnd.google.colaboratory.intrinsic+json": {
              "type": "string"
            }
          },
          "metadata": {},
          "execution_count": 15
        }
      ],
      "source": [
        "node = 3\n",
        "f'Neighbours of node {node}:  {list(complete.neighbors(0))}'"
      ],
      "metadata": {
        "pycharm": {
          "name": "#%%\n"
        },
        "id": "b0Qj6qvBTN9t",
        "outputId": "75e70bb5-ea86-456e-fd42-815c1b68805c",
        "colab": {
          "base_uri": "https://localhost:8080/",
          "height": 36
        }
      }
    },
    {
      "cell_type": "markdown",
      "source": [
        "### Exercise 3\n",
        "Make another compelete graph with a different number of nodes (again, develop your own graph and diagram below).\n",
        "Verify that each node has the expected number of `neighbors`"
      ],
      "metadata": {
        "collapsed": false,
        "pycharm": {
          "name": "#%% md\n"
        },
        "id": "3tEPJ6K-TN9t"
      }
    },
    {
      "cell_type": "code",
      "execution_count": 209,
      "outputs": [
        {
          "output_type": "display_data",
          "data": {
            "text/plain": [
              "<Figure size 432x288 with 1 Axes>"
            ],
            "image/png": "[encoded data removed]"
          },
          "metadata": {}
        },
        {
          "output_type": "execute_result",
          "data": {
            "text/plain": [
              "'Neighbours of node 3:  [1, 2, 3, 4, 5]'"
            ],
            "application/vnd.google.colaboratory.intrinsic+json": {
              "type": "string"
            }
          },
          "metadata": {},
          "execution_count": 209
        }
      ],
      "source": [
        "# Solution for Ex. 3 here...\n",
        "\n",
        "def all_pairs(objects):\n",
        "    return ((a, b) for i in range(1, len(objects)) for a,b in zip(objects, objects[i:]))\n",
        "\n",
        "list( all_pairs(('w', 'x', 'y', 'z')) )\n",
        "\n",
        "def make_complete_graph(n):\n",
        "    graph = nx.Graph()\n",
        "    labels = range(n)\n",
        "    graph.add_nodes_from(labels)\n",
        "    graph.add_edges_from(all_pairs(labels))\n",
        "    return graph\n",
        "\n",
        "complete = make_complete_graph(6)\n",
        "nx.draw_circular(complete,\n",
        "                 node_color='#ffaa99',\n",
        "                 node_size=1000,\n",
        "                 with_labels=True)\n",
        "plt.show()\n",
        "\n",
        "node = 3\n",
        "f'Neighbours of node {node}:  {list(complete.neighbors(0))}'\n"
      ],
      "metadata": {
        "pycharm": {
          "name": "#%%\n"
        },
        "id": "ItUBxr_0TN9t",
        "colab": {
          "base_uri": "https://localhost:8080/",
          "height": 338
        },
        "outputId": "84431c0b-2d43-45ca-aebb-ebf2afc5ee18"
      }
    },
    {
      "cell_type": "markdown",
      "source": [
        "## Random Numbers\n",
        "This is a big topic we will return to several times in Comp215.\n",
        "\n",
        "In the next section we need to randomize the connections (edges) in a graph.\n",
        "Here we'll develop a small function to generate the random sequence for that and explore some of its properties.\n",
        "\n",
        "We `seed` Python's built-in random number generator so we get the same sequence each time (to facilitate debugging and comprehension!)"
      ],
      "metadata": {
        "collapsed": false,
        "pycharm": {
          "name": "#%% md\n"
        },
        "id": "yqy9pFVRTN9u"
      }
    },
    {
      "cell_type": "code",
      "execution_count": 37,
      "outputs": [],
      "source": [
        "#random.seed(6) # Comment this out to run randomized experiments"
      ],
      "metadata": {
        "pycharm": {
          "name": "#%%\n"
        },
        "id": "BNw9lE-lTN9u"
      }
    },
    {
      "cell_type": "markdown",
      "source": [
        "Repeated calls to the function below will generate a random sequence of True/False values.\n",
        "It's easiest to think of this as a simulated \"coin toss\", where True is \"heads\" and False is \"tails\".\n",
        "But this coin can be \"biased\" - input $p$ specifies the probability of throwing \"heads\" and it need not be 50%!"
      ],
      "metadata": {
        "collapsed": false,
        "pycharm": {
          "name": "#%% md\n"
        },
        "id": "lxOtI6chTN9u"
      }
    },
    {
      "cell_type": "code",
      "execution_count": 44,
      "outputs": [],
      "source": [
        "def coin_toss(p):\n",
        "    \"\"\" Simulate flipping a biased \"coin\", where the probability of 'heads' is p.  Return True iff 'heads', False otherwise \"\"\"\n",
        "    return random.random() < p"
      ],
      "metadata": {
        "pycharm": {
          "name": "#%%\n"
        },
        "id": "JkGDWTiWTN9u"
      }
    },
    {
      "cell_type": "markdown",
      "source": [
        "### Exercise 4\n",
        "Use a list comprehension to generate a random sequence of 100 \"fair\" `coin_toss`es  (p = 0.5)\n",
        "Count the number \"heads\" (True) and \"tails\" (False) in the list (hint:  `sum(1 for toss in .... if ....)\n",
        "Rerun the experiment several times to gain a deeper understanding of what this function does.\n",
        "Experiment with different values of $p$.  What is the meaning of $p$ in this context?"
      ],
      "metadata": {
        "collapsed": false,
        "pycharm": {
          "name": "#%% md\n"
        },
        "id": "47LY3YY2TN9u"
      }
    },
    {
      "cell_type": "code",
      "execution_count": 124,
      "outputs": [
        {
          "output_type": "execute_result",
          "data": {
            "text/plain": [
              "[46, 58]"
            ]
          },
          "metadata": {},
          "execution_count": 124
        }
      ],
      "source": [
        "# Solution for Ex. 4 here...\n",
        "\n",
        "[sum(1 if coin_toss(0.5) else 0 for toss in range(100)), sum(0 if coin_toss(0.5) else 1 for toss in range(100))]\n",
        "\n"
      ],
      "metadata": {
        "pycharm": {
          "name": "#%%\n"
        },
        "id": "MhzAhD_8TN9u",
        "colab": {
          "base_uri": "https://localhost:8080/"
        },
        "outputId": "bbf6ba9d-8a64-4bb8-d539-f766c787f628"
      }
    },
    {
      "cell_type": "markdown",
      "source": [
        "## Random graphs\n",
        "from the textbook...\n",
        "> One of the more interesting \\[random graphs\\] is the Erdős-Rényi model, studied by Paul Erdős and Alfréd Rényi in the 1960s.\n",
        "\n",
        "> An Erdős-Rényi graph (ER graph) is characterized by two parameters: $n$ is the number of nodes and $p$ is the probability that there is an edge between any two nodes.\n",
        "\n",
        "> Erdős and Rényi studied the properties of these random graphs; one of their surprising results is the existence of abrupt changes in the properties of random graphs as random edges are added.\n",
        "\n",
        "In the remainder of the lab we will work towards re-producing this computational experiment.\n",
        "\n",
        "We start by making an ER graph where the probability of an edge between each pair of nodes is $p$."
      ],
      "metadata": {
        "collapsed": false,
        "id": "3hK4rrjzTN9v"
      }
    },
    {
      "cell_type": "markdown",
      "source": [
        "`random_pairs` generates a random subset of all possible distinct pairs from a set of objects,\n",
        "where each pair has a fixed probability, `p` of appearing in the subset.\n",
        "Notice how the algorithm starts with `all_pairs`, and applies a **filter** operation to randomly filter some pairs out with probability $p$.\n",
        "Again, if you have any trouble reading the generator expression here, please re-write it as a loop so you are 100% clear how it works."
      ],
      "metadata": {
        "collapsed": false,
        "pycharm": {
          "name": "#%% md\n"
        },
        "id": "N23bXl2sTN9v"
      }
    },
    {
      "cell_type": "code",
      "execution_count": 132,
      "outputs": [
        {
          "output_type": "execute_result",
          "data": {
            "text/plain": [
              "[('x', 'y'), ('w', 'y'), ('x', 'z'), ('w', 'z')]"
            ]
          },
          "metadata": {},
          "execution_count": 132
        }
      ],
      "source": [
        "def random_pairs(objects, p):\n",
        "    \"\"\" Return a generator of random subset of distinct object pairs (2-tuples), each with a probability of `p` \"\"\"\n",
        "    return (pair for pair in all_pairs(objects) if coin_toss(p))  # \"flip a coin\" to determine whether a given pair is included.\n",
        "\n",
        "# Run this cell several times to see different random subsets.  Change value of `p` to alter likely size of the result.\n",
        "list( random_pairs(('w', 'x', 'y', 'z'), p=0.5) )"
      ],
      "metadata": {
        "pycharm": {
          "name": "#%%\n"
        },
        "id": "ZjeTFjxWTN9v",
        "outputId": "09eda43c-4952-4f28-b3b8-8c670ffe635d",
        "colab": {
          "base_uri": "https://localhost:8080/"
        }
      }
    },
    {
      "cell_type": "markdown",
      "source": [
        "`make_random_graph` makes an ER Graph where the probability of an edge between each pair of nodes is `p`.\n",
        "\n",
        "Again, you can run the 2nd code block below a few times to generate different random graphs."
      ],
      "metadata": {
        "collapsed": false,
        "pycharm": {
          "name": "#%% md\n"
        },
        "id": "ecohmCjmTN9v"
      }
    },
    {
      "cell_type": "code",
      "execution_count": 133,
      "outputs": [],
      "source": [
        "def make_random_graph(n, p):\n",
        "    \"\"\" Return an ER Graph with n nodes, where the probability of an edge between a pair of nodes in p \"\"\"\n",
        "    graph = nx.Graph()\n",
        "    labels = range(n)\n",
        "    graph.add_nodes_from(labels)\n",
        "    graph.add_edges_from(random_pairs(labels, p))\n",
        "    return graph"
      ],
      "metadata": {
        "pycharm": {
          "name": "#%%\n"
        },
        "id": "-tcxawtHTN9w"
      }
    },
    {
      "cell_type": "code",
      "execution_count": 136,
      "outputs": [
        {
          "output_type": "stream",
          "name": "stdout",
          "text": [
            "Random Graph has 10 nodes and 14 edges\n"
          ]
        },
        {
          "output_type": "display_data",
          "data": {
            "text/plain": [
              "<Figure size 432x288 with 1 Axes>"
            ],
            "image/png": "[encoded data removed]"
          },
          "metadata": {}
        }
      ],
      "source": [
        "random_graph = make_random_graph(10, 0.3)\n",
        "print(f'Random Graph has {random_graph.number_of_nodes()} nodes and {random_graph.number_of_edges()} edges')\n",
        "\n",
        "nx.draw_circular(random_graph,\n",
        "                 node_color='#ff99dd',\n",
        "                 node_size=1000,\n",
        "                 with_labels=True)\n",
        "plt.show()"
      ],
      "metadata": {
        "pycharm": {
          "name": "#%%\n"
        },
        "id": "5-WVBtR1TN9w",
        "outputId": "e5f313aa-d47b-4ed5-bf36-5990be292ae3",
        "colab": {
          "base_uri": "https://localhost:8080/",
          "height": 336
        }
      }
    },
    {
      "cell_type": "markdown",
      "source": [
        "## Connectivity\n",
        "\n",
        "To check whether a graph is \"connected\", we'll start by finding all nodes that can be reached, starting at a given node.\n",
        "This algorithm uses a set to keep track of nodes we've already `seen` and a `stack` (list) to keep track of nodes we could reach from here.\n",
        "Trace this algorithm for a node from the graph above, tracking the `seen` and `stack` collections so you really understand how it works."
      ],
      "metadata": {
        "collapsed": false,
        "id": "uL824aRKTN9w"
      }
    },
    {
      "cell_type": "code",
      "execution_count": 138,
      "outputs": [],
      "source": [
        "def reachable_nodes(graph, start):\n",
        "    \"\"\" return the set of nodes that are reachable from the given start node\"\"\"\n",
        "    seen = set()\n",
        "    stack = [start]\n",
        "    while stack:\n",
        "        node = stack.pop()\n",
        "        if node not in seen:\n",
        "            seen.add(node)\n",
        "            stack.extend(graph.neighbors(node))\n",
        "    return seen"
      ],
      "metadata": {
        "pycharm": {
          "name": "#%%\n"
        },
        "id": "ePrGhUQ9TN9w"
      }
    },
    {
      "cell_type": "markdown",
      "source": [
        "In the complete graph, we can reach all nodes from any starting node, but that's not neccessarily true for a random graph..."
      ],
      "metadata": {
        "collapsed": false,
        "pycharm": {
          "name": "#%% md\n"
        },
        "id": "i88cl-lkTN9w"
      }
    },
    {
      "cell_type": "code",
      "execution_count": 141,
      "outputs": [
        {
          "output_type": "execute_result",
          "data": {
            "text/plain": [
              "{0, 1, 2, 3, 4}"
            ]
          },
          "metadata": {},
          "execution_count": 141
        }
      ],
      "source": [
        "reachable_nodes(complete, 0)"
      ],
      "metadata": {
        "pycharm": {
          "name": "#%%\n"
        },
        "id": "6GXILz5MTN9x",
        "outputId": "93323e5e-8197-4ff9-f8cd-fd9f0eab1f1a",
        "colab": {
          "base_uri": "https://localhost:8080/"
        }
      }
    },
    {
      "cell_type": "code",
      "execution_count": 145,
      "outputs": [
        {
          "output_type": "execute_result",
          "data": {
            "text/plain": [
              "{0, 1, 2, 3, 4, 5, 6, 7, 8, 9}"
            ]
          },
          "metadata": {},
          "execution_count": 145
        }
      ],
      "source": [
        "reachable_nodes(random_graph, 0)"
      ],
      "metadata": {
        "pycharm": {
          "name": "#%%\n"
        },
        "id": "Oz-dZEZaTN9x",
        "outputId": "4a9a389b-0fed-495e-8f0c-8677c8c06e88",
        "colab": {
          "base_uri": "https://localhost:8080/"
        }
      }
    },
    {
      "cell_type": "markdown",
      "source": [
        "Now it's straight-forward to determine if the graph **is connected** or not.\n",
        "Of course, a complete graphs is always connected, but a random graph may not be."
      ],
      "metadata": {
        "collapsed": false,
        "pycharm": {
          "name": "#%% md\n"
        },
        "id": "w-pnBlEQTN9x"
      }
    },
    {
      "cell_type": "code",
      "execution_count": 26,
      "outputs": [],
      "source": [
        "def is_connected(graph):\n",
        "    \"\"\" Return True if the graph is connected, false otherwise. \"\"\"\n",
        "    start = next(iter(graph))   # grab the first node in the graph.  This statement will need some further explanation.\n",
        "    reachable = reachable_nodes(graph, start)\n",
        "    return len(reachable) == len(graph)"
      ],
      "metadata": {
        "pycharm": {
          "name": "#%%\n"
        },
        "id": "SvfdRrDcTN9x"
      }
    },
    {
      "cell_type": "code",
      "execution_count": 27,
      "outputs": [
        {
          "output_type": "execute_result",
          "data": {
            "text/plain": [
              "True"
            ]
          },
          "metadata": {},
          "execution_count": 27
        }
      ],
      "source": [
        "is_connected(complete)"
      ],
      "metadata": {
        "pycharm": {
          "name": "#%%\n"
        },
        "id": "-aVm1Tw3TN9x",
        "outputId": "5cdde0c8-7143-41d4-a676-f0b9ed03119b",
        "colab": {
          "base_uri": "https://localhost:8080/"
        }
      }
    },
    {
      "cell_type": "code",
      "execution_count": 28,
      "outputs": [
        {
          "output_type": "execute_result",
          "data": {
            "text/plain": [
              "False"
            ]
          },
          "metadata": {},
          "execution_count": 28
        }
      ],
      "source": [
        "is_connected(random_graph)"
      ],
      "metadata": {
        "pycharm": {
          "name": "#%%\n"
        },
        "id": "_TElUHFdTN9x",
        "outputId": "ab0c3bef-e225-468b-859a-56e6845926ca",
        "colab": {
          "base_uri": "https://localhost:8080/"
        }
      }
    },
    {
      "cell_type": "markdown",
      "source": [
        "### Exercise 5\n",
        "Use `timeit` to run an experiment that times the `reachable_nodes` algorithm.\n",
        "Once you understand how `timeit` works, design a small experiment to time the `reachable_nodes` algorithm for a range of graph sizes (`n`)\n",
        "*Optional*: plot the results of your experiment on a graph."
      ],
      "metadata": {
        "collapsed": false,
        "pycharm": {
          "name": "#%% md\n"
        },
        "id": "1jTRWaL8TN9x"
      }
    },
    {
      "cell_type": "code",
      "execution_count": 159,
      "outputs": [
        {
          "output_type": "execute_result",
          "data": {
            "text/plain": [
              "'Time to execute: [0.05491102599989972, 0.2783559370000148, 0.8663569709988224, 0.5739588610013016, 0.9988294249997125, 1.5253107520002231, 2.336224292999759, 3.0503364890009834, 4.2146554440005275, 5.105461428998751] seconds'"
            ],
            "application/vnd.google.colaboratory.intrinsic+json": {
              "type": "string"
            }
          },
          "metadata": {},
          "execution_count": 159
        }
      ],
      "source": [
        "# Solution for Ex. 5 goes below... here's an example of how to use timeit:\n",
        "\n",
        "def experiment(n): \n",
        "\n",
        "  return timeit(lambda: reachable_nodes(make_complete_graph(n), 0), number = 1)\n",
        "results = [experiment(n) for n in range(100, 2000, 200)]\n",
        "f'Time to execute: {results} seconds'"
      ],
      "metadata": {
        "pycharm": {
          "name": "#%%\n"
        },
        "id": "Lh1oFjoETN9y",
        "outputId": "1d7f1f70-6ae3-4e6e-d30d-495de9b61b2e",
        "colab": {
          "base_uri": "https://localhost:8080/",
          "height": 53
        }
      }
    },
    {
      "cell_type": "markdown",
      "source": [
        "## Likelihood of connectivity\n",
        "\n",
        "We are finally ready to replicate Erdős and Rényi's computational experiment.\n",
        "In this experiment, we estimate the likelihood that a randomly-generated ER graph is connected.\n",
        "\n",
        "This function takes `n` and `p`, generates `iters` graphs, and returns the proportion of them that are connected.\n",
        "Be sure you understand how this algorithm works.  Again, re-write it using loops if needed to understand what it does and how it works."
      ],
      "metadata": {
        "collapsed": false,
        "pycharm": {
          "name": "#%% md\n"
        },
        "id": "GgKwJDTfTN9y"
      }
    },
    {
      "cell_type": "code",
      "execution_count": 160,
      "outputs": [
        {
          "output_type": "execute_result",
          "data": {
            "text/plain": [
              "'Likelihood that an ER graph (n=30, p=0.1) is connected: 26.0%'"
            ],
            "application/vnd.google.colaboratory.intrinsic+json": {
              "type": "string"
            }
          },
          "metadata": {},
          "execution_count": 160
        }
      ],
      "source": [
        "def proportion_connected(n, p, iters=100):\n",
        "    \"\"\" Return the proportion of iters random ER Graphs (n, p) that are connected. \"\"\"\n",
        "    graphs = (make_random_graph(n, p) for i in range(iters))\n",
        "    return statistics.mean( (1 if is_connected(graph) else 0 for graph in graphs) )\n",
        "\n",
        "n = 30\n",
        "p = 0.1\n",
        "f'Likelihood that an ER graph (n={n}, p={p}) is connected: {proportion_connected(n, p)*100}%'"
      ],
      "metadata": {
        "pycharm": {
          "name": "#%%\n"
        },
        "id": "uIbO0sf2TN9y",
        "outputId": "7e4e342e-8c85-4525-e8d6-e38f222131ac",
        "colab": {
          "base_uri": "https://localhost:8080/",
          "height": 36
        }
      }
    },
    {
      "cell_type": "markdown",
      "source": [
        "## Critical Value of $p$\n",
        "\n",
        "Near a \"critical value\" of $p$, the likelihood of a random graph being connected rapidly changes from near 0 to near 1.\n",
        "Erdős and Rényi predict the critical value should be:  $ln(n) / n$\n",
        "For example..."
      ],
      "metadata": {
        "collapsed": false,
        "pycharm": {
          "name": "#%% md\n"
        },
        "id": "7x5I-OLaTN9y"
      }
    },
    {
      "cell_type": "code",
      "execution_count": 161,
      "outputs": [
        {
          "output_type": "execute_result",
          "data": {
            "text/plain": [
              "'Erdős and Rényi predict the crictical value of p for graphs of size 30 = 0.113'"
            ],
            "application/vnd.google.colaboratory.intrinsic+json": {
              "type": "string"
            }
          },
          "metadata": {},
          "execution_count": 161
        }
      ],
      "source": [
        "n = 30\n",
        "f'Erdős and Rényi predict the crictical value of p for graphs of size {n} = {math.log(n) / n:0.3f}'"
      ],
      "metadata": {
        "pycharm": {
          "name": "#%%\n"
        },
        "id": "ciHpFLSNTN9y",
        "outputId": "8d365cbe-597a-49be-b1a0-83788fc7e028",
        "colab": {
          "base_uri": "https://localhost:8080/",
          "height": 36
        }
      }
    },
    {
      "cell_type": "markdown",
      "source": [
        "### Exercise 6\n",
        "Experiment with `proportion_connected` at different values of $p$, to confirm (or refute) Erdős and Rényi's results.\n",
        "Ideally, write a small piece of code to run the experiment over a range of $p$.\n",
        "The goal of this experiment is to identify the \"critical value\" of $p$ for graphs of size $n$."
      ],
      "metadata": {
        "collapsed": false,
        "pycharm": {
          "name": "#%% md\n"
        },
        "id": "-SIr-KQ5TN9z"
      }
    },
    {
      "cell_type": "code",
      "execution_count": 207,
      "outputs": [
        {
          "output_type": "stream",
          "name": "stdout",
          "text": [
            "[0.28]\n"
          ]
        }
      ],
      "source": [
        "# Solution for Ex. 6 goes here...\n",
        "\n",
        "def experiment2(p):\n",
        "  return proportion_connected(30, p, iters=100)\n",
        "\n",
        "values = [experiment2(p) for i in range(0, 1)]\n",
        "print(values)"
      ],
      "metadata": {
        "pycharm": {
          "name": "#%%\n"
        },
        "id": "oFuMF-PgTN9z",
        "colab": {
          "base_uri": "https://localhost:8080/"
        },
        "outputId": "d7d8e927-caea-4428-d904-9fddf233b206"
      }
    }
  ],
  "metadata": {
    "kernelspec": {
      "display_name": "Python 3",
      "language": "python",
      "name": "python3"
    },
    "language_info": {
      "codemirror_mode": {
        "name": "ipython",
        "version": 2
      },
      "file_extension": ".py",
      "mimetype": "text/x-python",
      "name": "python",
      "nbconvert_exporter": "python",
      "pygments_lexer": "ipython2",
      "version": "2.7.6"
    },
    "colab": {
      "provenance": [],
      "include_colab_link": true
    }
  },
  "nbformat": 4,
  "nbformat_minor": 0
}