{
  "cells": [
    {
      "cell_type": "markdown",
      "metadata": {
        "id": "view-in-github",
        "colab_type": "text"
      },
      "source": [
        "<a href=\"https://colab.research.google.com/github/anthonybabich/cap-comp215/blob/main/Copy_of_lab06.ipynb\" target=\"_parent\"><img src=\"https://colab.research.google.com/assets/colab-badge.svg\" alt=\"Open In Colab\"/></a>"
      ]
    },
    {
      "cell_type": "markdown",
      "metadata": {
        "collapsed": true,
        "pycharm": {
          "name": "#%% md\n"
        },
        "id": "JP3UtITGVhVk"
      },
      "source": [
        "COMP 215 - LAB 6 (Game of Life)\n",
        "-----------------------------------------------\n",
        "#### Name: Anthony Babich\n",
        "#### Date: 2/27/2023\n",
        "\n",
        "This lab exercise is an introduction to [Conway's Game of Life](https://en.wikipedia.org/wiki/Conway%27s_Game_of_Life) discovered and studied by [John Conway](https://en.wikipedia.org/wiki/John_Horton_Conway).\n",
        "\n",
        "**New Python concepts**:\n",
        "   * 2D numpy [array](https://numpy.org/doc/stable/reference/generated/numpy.array.html)\n",
        "   * basic [array operations](https://www.pluralsight.com/guides/overview-basic-numpy-operations)\n",
        "\n",
        "**New Computation concepts**:\n",
        "   * [2D sliding dot product](https://docs.scipy.org/doc/scipy/reference/generated/scipy.signal.correlate2d.html)\n",
        "   * [Animation](https://matplotlib.org/stable/api/animation_api.html)\n",
        "\n",
        "**Credits**:\n",
        "    Code examples based on [Think Complexity, 2nd edition](https://thinkcomplex.com).\n",
        "    Copyright 2016 Allen Downey, [MIT License](http://opensource.org/licenses/MIT)\n",
        "\n",
        "As usual, the first code cell simply imports all the modules we'll be using..."
      ]
    },
    {
      "cell_type": "code",
      "execution_count": null,
      "outputs": [],
      "source": [
        "import time\n",
        "import matplotlib\n",
        "import matplotlib.pyplot as plt\n",
        "from matplotlib import animation\n",
        "import numpy as np\n",
        "from scipy.signal import correlate2d\n",
        "\n",
        "%matplotlib inline\n",
        "# Configure matplotlib's animation library to work in the browser.\n",
        "matplotlib.rc('animation', html='jshtml')"
      ],
      "metadata": {
        "pycharm": {
          "name": "#%%\n"
        },
        "id": "BrAaDoMIVhVl"
      }
    },
    {
      "cell_type": "markdown",
      "source": [
        "A reusable function for plotting 2D numpy.array as an image..."
      ],
      "metadata": {
        "collapsed": false,
        "pycharm": {
          "name": "#%% md\n"
        },
        "id": "waHhdxroVhVl"
      }
    },
    {
      "cell_type": "code",
      "execution_count": null,
      "outputs": [],
      "source": [
        "DEFAULT_IMSHOW_OPTIONS = dict(\n",
        "    cmap = 'Blues',\n",
        "    interpolation='none',\n",
        "    origin='upper',\n",
        ")\n",
        "\n",
        "def plot_2D_array(array, axes=None, title='', **options):\n",
        "    \"\"\" Plot the 2D array as an image on the given axes  1's will be dark blue, 0's will be light blue. \"\"\"\n",
        "    axes = axes or plt.gca()   # If not axes are provided, draw on current axes\n",
        "    axes.set_title(title)\n",
        "    axes.set_xticks([], [])  # remove axes tick marks\n",
        "    axes.set_yticks([], [])\n",
        "    options = {**DEFAULT_IMSHOW_OPTIONS, **options}\n",
        "    axes.imshow(array, **options)"
      ],
      "metadata": {
        "pycharm": {
          "name": "#%%\n"
        },
        "id": "IOMUlkp7VhVl"
      }
    },
    {
      "cell_type": "markdown",
      "source": [
        "## Life Fundamentals\n",
        "Both the textbook and our week6 notebooks develop some fundamental operations for simulating the Game of Life.\n",
        "Some of the code from `week6.ipynb` is reproduced here without deriving all the ideas - review `week6.ipynb` notebook for the full story.\n",
        "The sliding dot product algorithm in `step` is implemented with [scipy.signal.correlate2d](https://docs.scipy.org/doc/scipy/reference/generated/scipy.signal.correlate2d.html).  It's behaviour is identical to the derivation in `week6.ipynb`.\n",
        "\n",
        "#### Notes\n",
        "* we use `correlate2d(state, kernel, mode='same', boundary='wrap')` to pad state matrix with 1 value around perimeter from the opposite side of the matrix.\n",
        "* since the rule is a 1D `np.array`, we use \"vector indexing\" here to set the 'live' state transitions:  `next_state[[3, 12, 13]] = 1`"
      ],
      "metadata": {
        "collapsed": false,
        "pycharm": {
          "name": "#%% md\n"
        },
        "id": "6-u8SywEVhVm"
      }
    },
    {
      "cell_type": "code",
      "execution_count": null,
      "outputs": [],
      "source": [
        "class Life2D:\n",
        "    \"\"\" An basic 2D Cellular Automata that implementes Conway's Game of Life \"\"\"\n",
        "    kernel = np.array([[1, 1, 1],\n",
        "                       [1, 10, 1],\n",
        "                       [1, 1, 1]])\n",
        "\n",
        "    next_state = np.zeros(19, dtype=np.uint8)\n",
        "    next_state[[3, 12, 13]] = 1\n",
        "\n",
        "    def __init__(self, n_rows, n_cols=None):\n",
        "        \"\"\" Construct a n_rows x n_cols 2D CA \"\"\"\n",
        "        n_cols = n_cols or n_rows  # i.e., n_cols if n_cols is not None and n_cols != 0 else n_rows\n",
        "        self.state = np.zeros(shape=(n_rows, n_cols), dtype=np.uint8)\n",
        "\n",
        "    def step(self):\n",
        "        \"\"\"Executes one time step. \"\"\"\n",
        "        transitions = correlate2d(self.state, self.kernel, mode='same', boundary='wrap')\n",
        "        self.state = self.next_state[transitions]\n",
        "\n",
        "    def draw(self, axes=None, step=''):\n",
        "        axes = axes or plt.gca()   # use pyplot's current axes if none are provided.\n",
        "        plot_2D_array(self.state, axes, title=f\"Conway's Game of Life {step}\")"
      ],
      "metadata": {
        "pycharm": {
          "name": "#%%\n"
        },
        "id": "Mcl_x9TfVhVm"
      }
    },
    {
      "cell_type": "markdown",
      "source": [
        "### Visualizing a 2D simulation model\n",
        "For 1D CAs, we could use a 2D image to visualize the CA progression over time.\n",
        "For 2D CAs, we could try using time as a 3rd axis to generate a 3D visualziation, but without VR, its hard to explore a 3D visualization.\n",
        "Instead, we'll use a simple 2D [\"stop motion\" animation](https://en.wikipedia.org/wiki/Animation).\n",
        "Here is a generic class that animates any 2D model that provides step() and draw() methods, and uses matplotlib to render its state.\n",
        "\n",
        "See [Matplotlib animation in Jupyter](https://www.allendowney.com/blog/2019/07/25/matplotlib-animation-in-jupyter/) by our textbook author for a discussion of the pros and cons of various animation techniques in jupyter notebooks."
      ],
      "metadata": {
        "collapsed": false,
        "pycharm": {
          "name": "#%% md\n"
        },
        "id": "SEHCds3pVhVm"
      }
    },
    {
      "cell_type": "code",
      "execution_count": null,
      "outputs": [],
      "source": [
        "class Animation2D:\n",
        "    \"\"\"\n",
        "      Animates any 2D model with a step() method and a draw() method, using matplotlib\n",
        "      model.step() should take no parameters - just step the model forward one step.\n",
        "      model.draw() should take 2 parameters, the matpltolib axes to draw on and an integer step number\n",
        "    \"\"\"\n",
        "\n",
        "    def __init__(self, model, frames=50, figsize=(8, 8)):\n",
        "        \"\"\"\n",
        "        :param model: the simulation object to animate, with step() and draw(axes, step) methods\n",
        "        :param frames: number of animation frames to generate\n",
        "        \"\"\"\n",
        "        self.model = model\n",
        "        self.frames = frames\n",
        "        self.fig, self.ax = plt.subplots(figsize=figsize)\n",
        "\n",
        "    def animation_step(self, step):\n",
        "        \"\"\" Step the model forward and draw the plot \"\"\"\n",
        "        if step > 0:\n",
        "            self.model.step()\n",
        "        self.model.draw(self.ax, step=step)\n",
        "\n",
        "    def show(self):\n",
        "        \"\"\" return the matplotlib animation object, ready for display \"\"\"\n",
        "        anim = animation.FuncAnimation(self.fig, self.animation_step, frames=self.frames)\n",
        "        plt.close()  # this ensures the last frame is not shown as a separate plot\n",
        "        return anim\n",
        "\n",
        "    def animate(self, interval=None):\n",
        "        \"\"\" Animate the model simulation directly in the notebook display block \"\"\"\n",
        "        from IPython.display import clear_output\n",
        "        try:\n",
        "            for i in range(self.frames):\n",
        "                clear_output(wait=True)  # clear the IPython display\n",
        "                self.ax.clear()          # clear old image from the axes (fixes a performance issue)\n",
        "                plt.figure(self.fig)     # add the figure back to pyplot ** sigh **\n",
        "                self.animation_step(i)\n",
        "                plt.show()               # show the current animation frame (pyplot then closes and throws away figure ** sigh **)\n",
        "                if interval:\n",
        "                    time.sleep(interval)\n",
        "        except KeyboardInterrupt:\n",
        "            pass"
      ],
      "metadata": {
        "pycharm": {
          "name": "#%%\n"
        },
        "id": "UqK6L0o2VhVm"
      }
    },
    {
      "cell_type": "markdown",
      "source": [
        "### Sample usage\n",
        "Animate a single glider..."
      ],
      "metadata": {
        "collapsed": false,
        "pycharm": {
          "name": "#%% md\n"
        },
        "id": "dQsRMzHJVhVn"
      }
    },
    {
      "cell_type": "code",
      "execution_count": null,
      "outputs": [
        {
          "output_type": "display_data",
          "data": {
            "text/plain": [
              "<Figure size 576x576 with 1 Axes>"
            ],
            "image/png": "[encoded data removed]"
          },
          "metadata": {}
        }
      ],
      "source": [
        "size = 10\n",
        "life = Life2D(size)\n",
        "glider = np.array([[0, 1, 0], [0, 0, 1], [1, 1, 1]], dtype=np.uint8)\n",
        "life.state[1:4, 2:5] = glider             # bad idea to alter an objects state directly!  We'll improve it in Ex. 3\n",
        "gol = Animation2D(life, frames=20)\n",
        "gol.animate()"
      ],
      "metadata": {
        "pycharm": {
          "name": "#%%\n"
        },
        "id": "ZjP5JKENVhVn",
        "outputId": "ef6946d6-d948-473f-ebe9-44be0610f132",
        "colab": {
          "base_uri": "https://localhost:8080/",
          "height": 485
        }
      }
    },
    {
      "cell_type": "markdown",
      "source": [
        "## Exercise 1:  Enumerate all Elementary 2D CA's\n",
        " * how many unique states are there for a 3x3 (9 cell) neighbourhood?\n",
        " * how many unique “rules” are there? (where a rule provides a mapping for each possible neighbourhood state to the output for the centre cell)\n",
        " * how does this number compare, for example, to the [number of atoms in the observable universe?](https://en.wikipedia.org/wiki/Observable_universe#Matter_content%E2%80%94number_of_atoms)\n",
        " * would it be a reasonable goal to conduct an experiment like Wolfram’s for 2D CA’s?\n",
        " * propose a numbering scheme for these rules, analogous to Wolfram’s rule numbers\n",
        " * how might we go about determining which rule number corresponds to Conway’s GoL?\n",
        "   (I’m not asking for the number, but rather for a method you could use to find it.)"
      ],
      "metadata": {
        "collapsed": false,
        "pycharm": {
          "name": "#%% md\n"
        },
        "id": "ohifqH3wVhVo"
      }
    },
    {
      "cell_type": "code",
      "execution_count": null,
      "outputs": [],
      "source": [
        "# Solutions for Ex. 1\n",
        " \n",
        " #Question 1: For a 9 cell neighbourhood there are two unique states, 0 or 1 and for the game of life alive or dead. The total number of possible configurations of the neighborhood is 2^9 which is 512.\n",
        "\n",
        "#Question 2: There are 2^512(1.34078079E154) unique rules. \n",
        "\n",
        "#Question 3: There are approximitely 10^80 observable atoms in the universe.  The number of observable atoms in the universe is significantly smaller than the possible amount of unique rules  \n",
        "\n",
        "#Question 4: Yes it could be reasonable to do. However, to go over every possible rule would be unreasonble because the amount is so large."
      ],
      "metadata": {
        "pycharm": {
          "name": "#%%\n"
        },
        "id": "kKPqO-vFVhVo"
      }
    },
    {
      "cell_type": "markdown",
      "source": [
        "**Question 5**\n",
        "\n",
        "Suppose there are 5 rules \n",
        "\n",
        "\n",
        "\n",
        "*   Rule 0: All cells die.\n",
        "\n",
        "\n",
        "\n",
        "*   Rule 1: All cells stay the same.\n",
        "*   Rule 2: Birth rule - a dead cell with exactly 3 live neighbors becomes alive\n",
        "\n",
        "\n",
        "*   \n",
        "Rule 3: Survival and birth rule - a live cell with 2 or 3 live neighbors survives, and a dead cell with exactly 3 live neighbors becomes alive.\n",
        "*   Rule 4: Survival rule - a live cell with 2 or 3 live neighbors survives.\n",
        "\n",
        "Let a unique rule number represent each of these rules. Rule 0 can be represented as 000000000, Rule 1 as 000000001, Rule 2 as 000000010, Rule 3 as 000000011, and Rule 4 as 000000100. Using this scheme, we can refer to each rule by its unique rule number, just as Wolfram's rule numbers are used to refer to specific cellular automata rules.\n",
        "\n",
        "\n",
        "\n",
        "\n",
        "\n"
      ],
      "metadata": {
        "id": "i5KmawGncO46"
      }
    },
    {
      "cell_type": "code",
      "source": [
        "binary_states = [f\"{i:09b}\" for i in range(2 ** 9)]\n",
        "rule_numbers = {state: i for i, state in enumerate(binary_states)}\n",
        "print(f\"Rule number for neighborhood state (0, 0, 0, 0, 0, 0, 0, 0, 0): {rule_numbers['000000000']}\")\n"
      ],
      "metadata": {
        "colab": {
          "base_uri": "https://localhost:8080/"
        },
        "id": "p1iK77xIqOW2",
        "outputId": "d2458dfc-74b9-4266-de19-b1c3fbb88fd0"
      },
      "execution_count": null,
      "outputs": [
        {
          "output_type": "stream",
          "name": "stdout",
          "text": [
            "Rule number for neighborhood state (0, 0, 0, 0, 0, 0, 0, 0, 0): 0\n"
          ]
        }
      ]
    },
    {
      "cell_type": "markdown",
      "source": [
        "**Question 6**\n",
        "\n",
        "To determine which rules corresponds to Conways GOL first create a 3x3 matrix. Then assign a 1 or 0 where 1 represents an alive cell and 0 represents a dead cell. Then generate the next state based on the GoL rules. If the central cell is alive and has 2 or 3 live neighbors, it survives. If it is dead and has exactly 3 live neighbors, it becomes alive otherwise it dies or stays dead. Then convert the cells into their next state with a zero or one based of these."
      ],
      "metadata": {
        "id": "fzv7jfDJdMYn"
      }
    },
    {
      "cell_type": "markdown",
      "source": [
        "## Exercise 2: random_life\n",
        "Extend the Life2D class defined above to allow the game to be initialized with a random start state.\n",
        "The liklihood of any given cell being initialized to \"alive\" is given by $p$.\n",
        "*Hint*: we did this exact exercise for a 1D array in lab 5"
      ],
      "metadata": {
        "collapsed": false,
        "pycharm": {
          "name": "#%% md\n"
        },
        "id": "hIF7y9TsVhVo"
      }
    },
    {
      "cell_type": "code",
      "execution_count": null,
      "outputs": [],
      "source": [
        "# Solution for Ex. 2\n",
        "\n",
        "class BetterLife2D(Life2D):\n",
        "    \"\"\" Improvements on the basic Life2D model \"\"\"\n",
        "\n",
        "    def randomize_state(self, p):\n",
        "     self.state = np.random.choice([0, 1], size=self.state.shape, p=[1 - p, p])\n",
        "\n",
        "    def load_pattern(self, x, y, pattern):\n",
        "        arr = pattern_to_array(pattern)\n",
        "        x_len, y_len = arr.shape\n",
        "        self.state[x:x+x_len, y:y+y_len] = arr\n",
        "\n",
        "      \n",
        "\n",
        "\n",
        "\n",
        "def random_life(n_rows, n_cols=None, p=0.5):\n",
        "    \"\"\" Return a Life2D object of given dimensions with initial randomized state where \"live\" cells have probability p \"\"\"\n",
        "    life_object = BetterLife2D(n_rows, n_cols)\n",
        "    life_object.randomize_state(p)\n",
        "    return life_object\n",
        "\n",
        "  "
      ],
      "metadata": {
        "pycharm": {
          "name": "#%%\n"
        },
        "id": "rZZ22lh4VhVo"
      }
    },
    {
      "cell_type": "markdown",
      "source": [
        "### Experiment\n",
        "Run a small experiment to see if you can identify any relationship between $p$, the probability of a live cell in the initial grid, and the time it takes for the GoL pattern to stabilize."
      ],
      "metadata": {
        "collapsed": false,
        "pycharm": {
          "name": "#%% md\n"
        },
        "id": "LHzVpCFEVhVo"
      }
    },
    {
      "cell_type": "code",
      "execution_count": null,
      "outputs": [
        {
          "output_type": "display_data",
          "data": {
            "text/plain": [
              "<Figure size 432x288 with 1 Axes>"
            ],
            "image/png": "[encoded data removed]"
          },
          "metadata": {
            "needs_background": "light"
          }
        }
      ],
      "source": [
        "def experiment(p_values, n_rows, n_cols=None, max_steps=1000):\n",
        "    times = []\n",
        "    for p in p_values:\n",
        "        life = BetterLife2D(n_rows, n_cols)\n",
        "        life.randomize_state(p)\n",
        "        start_time = time.time()\n",
        "        prev_state = np.copy(life.state)  \n",
        "        for i in range(max_steps):\n",
        "            life.step()\n",
        "            if np.array_equal(life.state, prev_state):  \n",
        "                times.append(time.time() - start_time)\n",
        "                break\n",
        "            prev_state = np.copy(life.state)\n",
        "        else:\n",
        "            times.append(time.time() - start_time)\n",
        "    return times\n",
        "\n",
        "p_values = np.linspace(0.1, 0.9, num=9)\n",
        "n_rows = 50\n",
        "n_cols = 50\n",
        "max_steps = 1000\n",
        "\n",
        "times = experiment(p_values, n_rows, n_cols, max_steps)\n",
        "\n",
        "plt.plot(p_values, times, 'o-')\n",
        "plt.xlabel('Probability of live cell')\n",
        "plt.ylabel('Time to stabilize (s)')\n",
        "plt.show()"
      ],
      "metadata": {
        "pycharm": {
          "name": "#%%\n"
        },
        "id": "ebHDq1QtVhVo",
        "colab": {
          "base_uri": "https://localhost:8080/",
          "height": 279
        },
        "outputId": "18564c09-ede2-49e8-cadc-23266efefcd6"
      }
    },
    {
      "cell_type": "markdown",
      "source": [
        "It looks like from probabilities 0.1-0.7 it takes between 0.14-0.16 seconds to stabilize and from 0.8-0.9 probability it takes 0.00 seconds to stabilize. A conclusion could be that for lower probabilities it takes longer to stabilize."
      ],
      "metadata": {
        "id": "Ydsf9GDl1jEw"
      }
    },
    {
      "cell_type": "markdown",
      "source": [
        "## Exercise 3: Load Patterns\n",
        "People have discovered many interesting [\"patterns\"](https://conwaylife.com/wiki/Category:Patterns) that exhibit various types of behaviours.\n",
        "A \"pattern\" is just a small 2D array.\n",
        " 1. Develop a function that returns a 2D array containing the patterns defined by a single string; and\n",
        " 2. Add an `load_pattern(x, y, pattern)` method to your BetterLife2D class above to insert patterns into the Life state array\n",
        "    *Tip*: you can [assign an entire 2D slice of a numpy array](https://www.nickmccullum.com/advanced-python/numpy-indexing-assignment/) in a single assignment statement!   See example in the Sample Usage block above. Try it!"
      ],
      "metadata": {
        "collapsed": false,
        "pycharm": {
          "name": "#%% md\n"
        },
        "id": "djxMhriZVhVp"
      }
    },
    {
      "cell_type": "code",
      "execution_count": null,
      "outputs": [
        {
          "output_type": "stream",
          "name": "stdout",
          "text": [
            "[[0 1 0]\n",
            " [0 0 1]\n",
            " [1 1 1]]\n"
          ]
        }
      ],
      "source": [
        "# Here's an example of the glider pattern from above defined in a single string...\n",
        "glider_pattern = \\\n",
        "    \"\"\"\n",
        "    010\n",
        "    001\n",
        "    111\n",
        "    \"\"\"\n",
        "\n",
        "# Solution for Ex. 3\n",
        "def pattern_to_array(pattern):\n",
        "    lines = pattern.strip().split('\\n')\n",
        "    lst = [[int(c) for c in line.strip()] for line in lines]\n",
        "    arr = np.array(lst)\n",
        "    return arr\n",
        "\n",
        "\n",
        "glider_array = pattern_to_array(\"\"\"\n",
        "    010\n",
        "    001\n",
        "    111\n",
        "    \"\"\")\n",
        "\n",
        "print(glider_array)"
      ],
      "metadata": {
        "pycharm": {
          "name": "#%%\n"
        },
        "id": "11M6FIa5VhVp",
        "colab": {
          "base_uri": "https://localhost:8080/"
        },
        "outputId": "9b054997-b1cc-42ea-a618-b4302ca59385"
      }
    },
    {
      "cell_type": "markdown",
      "source": [
        "### Define some patterns\n",
        "User your nifty new function to define a few common, interesting patterns (e.g., from the book or other sources)"
      ],
      "metadata": {
        "collapsed": false,
        "pycharm": {
          "name": "#%% md\n"
        },
        "id": "m665CukJVhVp"
      }
    },
    {
      "cell_type": "code",
      "execution_count": null,
      "outputs": [
        {
          "output_type": "stream",
          "name": "stdout",
          "text": [
            "[[0 1 0]\n",
            " [0 1 0]\n",
            " [0 1 0]]\n",
            "[[0 0 0 0]\n",
            " [0 1 1 0]\n",
            " [0 1 1 0]\n",
            " [0 0 0 0]]\n",
            "[[1 1 0 0]\n",
            " [1 1 0 0]\n",
            " [0 0 1 1]\n",
            " [0 0 1 1]]\n",
            "[[0 1 0]\n",
            " [0 0 1]\n",
            " [1 1 1]]\n"
          ]
        }
      ],
      "source": [
        "# define your patterns here\n",
        " \n",
        "blinker = \"\"\"\n",
        "010\n",
        "010\n",
        "010\n",
        "\"\"\"\n",
        "\n",
        "toad = \"\"\"\n",
        "0000\n",
        "0110\n",
        "0110\n",
        "0000\n",
        "\"\"\"\n",
        "\n",
        "beacon = \"\"\"\n",
        "1100\n",
        "1100\n",
        "0011\n",
        "0011\n",
        "\"\"\"\n",
        "\n",
        "glider = \"\"\"\n",
        "010\n",
        "001\n",
        "111\n",
        "\"\"\"\n",
        "\n",
        "print(pattern_to_array(blinker))\n",
        "\n",
        "print(pattern_to_array(toad))\n",
        "\n",
        "print(pattern_to_array(beacon))\n",
        "\n",
        "print(pattern_to_array(glider))"
      ],
      "metadata": {
        "pycharm": {
          "name": "#%%\n"
        },
        "id": "sLksmQ-DVhVp",
        "colab": {
          "base_uri": "https://localhost:8080/"
        },
        "outputId": "543b6beb-6428-4413-a717-0b6b49a310aa"
      }
    },
    {
      "cell_type": "markdown",
      "source": [
        "### Experiment\n",
        "Load up a BetterLife2D object with some patterns that interact in some interesting way.\n",
        "What can we learn from studying interactions like this?   Is anything here applicable to the real world?"
      ],
      "metadata": {
        "collapsed": false,
        "pycharm": {
          "name": "#%% md\n"
        },
        "id": "5Xb2HH6QVhVp"
      }
    },
    {
      "cell_type": "code",
      "execution_count": null,
      "outputs": [
        {
          "output_type": "display_data",
          "data": {
            "text/plain": [
              "<Figure size 576x576 with 1 Axes>"
            ],
            "image/png": "[encoded data removed]"
          },
          "metadata": {}
        }
      ],
      "source": [
        "# code for your experiment here\n",
        "\n",
        "pulsar = \"\"\"\n",
        "0000000000000\n",
        "0000000000000\n",
        "0000000111000\n",
        "0000000000100\n",
        "0010000000100\n",
        "0010000111000\n",
        "0000000100000\n",
        "0000000111000\n",
        "0000000000100\n",
        "0000000111000\n",
        "0000000000000\n",
        "0000000000000\n",
        "\"\"\"\n",
        "\n",
        "beehive = \"\"\"\n",
        "00000\n",
        "00100\n",
        "01010\n",
        "00100\n",
        "00000\n",
        "\"\"\"\n",
        "\n",
        "loaf = \"\"\"\n",
        "00000\n",
        "00100\n",
        "01010\n",
        "00100\n",
        "00010\n",
        "00001\n",
        "\"\"\"\n",
        "\n",
        "life = BetterLife2D(30, 30)\n",
        "\n",
        "life.load_pattern(1, 1, pulsar)\n",
        "life.load_pattern(6, 6, beehive)\n",
        "life.load_pattern(14, 14, loaf)\n",
        "\n",
        "animation_object = Animation2D(life, frames=100)\n",
        "animation_object.animate(interval=0.2)\n",
        "\n"
      ],
      "metadata": {
        "pycharm": {
          "name": "#%%\n"
        },
        "id": "JBh73dgMVhVp",
        "colab": {
          "base_uri": "https://localhost:8080/",
          "height": 485
        },
        "outputId": "95f9cd43-c94c-4dc0-c310-05a61682a2fc"
      }
    },
    {
      "cell_type": "markdown",
      "source": [
        "From studying these interactions we can learn how all sorts of behavious can arise from simple rules. It has real world applications to a wide range of things such as biology and physics models."
      ],
      "metadata": {
        "id": "msdO_aj7Fz6d"
      }
    }
  ],
  "metadata": {
    "kernelspec": {
      "display_name": "Python 3",
      "language": "python",
      "name": "python3"
    },
    "language_info": {
      "codemirror_mode": {
        "name": "ipython",
        "version": 2
      },
      "file_extension": ".py",
      "mimetype": "text/x-python",
      "name": "python",
      "nbconvert_exporter": "python",
      "pygments_lexer": "ipython2",
      "version": "2.7.6"
    },
    "colab": {
      "provenance": [],
      "include_colab_link": true
    }
  },
  "nbformat": 4,
  "nbformat_minor": 0
}