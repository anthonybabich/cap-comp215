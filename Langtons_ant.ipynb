{
  "nbformat": 4,
  "nbformat_minor": 0,
  "metadata": {
    "colab": {
      "provenance": [],
      "authorship_tag": "ABX9TyOWynS7k8VAYWnXrNShjdcm",
      "include_colab_link": true
    },
    "kernelspec": {
      "name": "python3",
      "display_name": "Python 3"
    },
    "language_info": {
      "name": "python"
    }
  },
  "cells": [
    {
      "cell_type": "markdown",
      "metadata": {
        "id": "view-in-github",
        "colab_type": "text"
      },
      "source": [
        "<a href=\"https://colab.research.google.com/github/anthonybabich/cap-comp215/blob/main/Langtons_ant.ipynb\" target=\"_parent\"><img src=\"https://colab.research.google.com/assets/colab-badge.svg\" alt=\"Open In Colab\"/></a>"
      ]
    },
    {
      "cell_type": "markdown",
      "source": [
        "Project 2 - Langtons Ant\n",
        "---------------------------\n",
        "####Author: Anthony Babich\n",
        "\n",
        "####Date: 2023-03-31\n",
        "\n",
        "The purpose of this project is to develop a 2D cellular automata for langtons ant, do some experiments with the class, and then do an algorithim analysis.\n",
        "\n",
        "Backround info: Langton's ant is a 2D CA with simple rules but complex emergent behaviour, invented by Chris Langton in 1986. \n",
        "The universality of Langton's ant was proven in 2000. The dynamics of Langton's ant have been the subject of extensive study and exploration in the field of complex systems, and have been used as a model for studying the emergence of complexity in natural systems.\n"
      ],
      "metadata": {
        "id": "xKavs8YTH1Cy"
      }
    },
    {
      "cell_type": "code",
      "source": [
        "import matplotlib\n",
        "import matplotlib.pyplot as plt\n",
        "from matplotlib import animation\n",
        "import numpy as np\n",
        "%matplotlib inline\n",
        "matplotlib.rc('animation', html='jshtml')\n",
        "from matplotlib.patches import Circle\n",
        "import timeit\n",
        "from scipy.signal import correlate2d\n",
        "import time\n",
        "\n",
        "\n",
        "\n",
        "\n"
      ],
      "metadata": {
        "id": "_ORDbi1zH_y0"
      },
      "execution_count": 34,
      "outputs": []
    },
    {
      "cell_type": "markdown",
      "source": [
        "First is an animation class taken from Lab 6. This will be used to create stop motion animations for the cellular automnata"
      ],
      "metadata": {
        "id": "Qt_oKxidpW1-"
      }
    },
    {
      "cell_type": "code",
      "source": [
        "class Animation2D:\n",
        "    \"\"\"\n",
        "      Animates any 2D model with a step() method and a draw() method, using matplotlib\n",
        "      model.step() should take no parameters - just step the model forward one step.\n",
        "      model.draw() should take 1 parameter, the matpltolib axes to draw on\n",
        "    \"\"\"\n",
        "\n",
        "    def __init__(self, model, frames=50, figsize=(8, 8)):\n",
        "        \"\"\"\n",
        "        :param model: the simulation object to animate, with step() and draw(axes) methods\n",
        "        :param frames: number of animation frames to generate\n",
        "        \"\"\"\n",
        "        self.model = model\n",
        "        self.frames = frames\n",
        "        self.fig, self.ax = plt.subplots(figsize=figsize)\n",
        "\n",
        "    def animation_step(self, step):\n",
        "        \"\"\" Step the model forward and draw the plot \"\"\"\n",
        "        if step > 0:\n",
        "            self.model.step()\n",
        "        self.model.draw(self.ax)\n",
        "\n",
        "    def show(self):\n",
        "        \"\"\" return the matplotlib animation object, ready for display \"\"\"\n",
        "        anim = animation.FuncAnimation(self.fig, self.animation_step, frames=self.frames)\n",
        "        plt.close() \n",
        "        return anim\n",
        "\n",
        "    def animate(self, interval=None):\n",
        "        \"\"\" Animate the model simulation directly in the notebook display block \"\"\"\n",
        "        from IPython.display import clear_output\n",
        "        try:\n",
        "            for i in range(self.frames):\n",
        "                clear_output(wait=True)  \n",
        "                self.ax.clear()          \n",
        "                plt.figure(self.fig)     \n",
        "                self.animation_step(i)\n",
        "                plt.show()              \n",
        "                if interval:\n",
        "                    time.sleep(interval)\n",
        "        except KeyboardInterrupt:\n",
        "            pass\n"
      ],
      "metadata": {
        "id": "JPxSzSW2owd1"
      },
      "execution_count": 35,
      "outputs": []
    },
    {
      "cell_type": "markdown",
      "source": [
        "####Langtons Ant\n",
        "Here is the implementation of langtons ant. \n",
        "\n",
        "The code defines two classes: Grid and LangtonsAnt.\n",
        "\n",
        "\n",
        "\n",
        "* Grid class: This class represents the grid of cells that the ant moves across. It takes in three parameters: rows and columns (the dimensions of the grid) and state_values (a list of two values representing the two possible states of a cell - typically, black and white). It initializes the grid with all cells set to the default state (0).\n",
        "*   LangtonsAnt class: This class represents the ant and its behavior. It takes in the same three parameters as Grid (rows, columns, and state_values), as well as three additional parameters: ant_row and ant_col (the starting position of the ant on the grid) and ant_direction (the starting direction of the ant). It initializes the grid and the ant's starting position and direction.\n",
        "\n",
        "The LangtonsAnt class has the following methods:\n",
        "\n",
        "\n",
        "*   get_ant_position(): This method returns the current position of the ant on the grid\n",
        "*   step(): This method moves the ant one step forward based on its current position and the color of the cell it lands on. It updates the ant's position and direction, as well as the color of the cell it lands on.\n",
        "\n",
        "\n",
        "*   draw(): This method takes in an Axes object (from matplotlib) and uses it to draw the current state of the grid (including the ant) on a plot.\n",
        "*   repr(): This method returns a string representation of the LangtonsAnt object.\n",
        "\n",
        "The rules for Langton's Ant are as follows:\n",
        "\n",
        "\n",
        "*   If the ant is on a white cell, it turns 90 degrees clockwise, flips the color of the cell to black, and moves forward one cell.\n",
        "*   If the ant is on a black cell, it turns 90 degrees counterclockwise, flips the color of the cell to white, and moves forward one cell.\n",
        "\n",
        "\n",
        "\n",
        "\n",
        "\n",
        "\n"
      ],
      "metadata": {
        "id": "2_DXmoM7q10n"
      }
    },
    {
      "cell_type": "code",
      "source": [
        "class Grid:\n",
        "    \"\"\"\n",
        "    Grid class that represents the state of each cell in the Langton's Ant simulation.\n",
        "    \"\"\"\n",
        "    def __init__(self, rows, cols, state_values):\n",
        "        self.rows = rows\n",
        "        self.cols = cols\n",
        "        self.grid = np.zeros((rows, cols), dtype=np.uint8)\n",
        "        self.state_values = state_values\n",
        "\n",
        "    def get_value(self, row, col):\n",
        "        return self.grid[row, col]\n",
        "\n",
        "    def set_value(self, row, col, value):\n",
        "        self.grid[row, col] = value\n",
        "\n",
        "    def flip_value(self, row, col):\n",
        "        current_value = self.get_value(row, col)\n",
        "        new_value = self.state_values[0] if current_value == self.state_values[1] else self.state_values[1]\n",
        "        self.set_value(row, col, new_value)\n",
        "\n",
        "    def __repr__(self):\n",
        "        return f\"Grid({self.rows}, {self.cols}, {self.grid})\"\n",
        "\n",
        "\n",
        "class LangtonsAnt:\n",
        "    \"\"\"\n",
        "    Langton's Ant Cellular Automata class.\n",
        "    \"\"\"\n",
        "    def __init__(self, rows, cols, state_values, ant_row, ant_col, ant_direction):\n",
        "        self.grid = Grid(rows, cols, state_values)\n",
        "        self.ant_row = ant_row\n",
        "        self.ant_col = ant_col\n",
        "        self.ant_direction = ant_direction\n",
        "\n",
        "\n",
        "    def get_ant_position(self):\n",
        "        return self.ant_row, self.ant_col\n",
        "\n",
        "    def step(self):\n",
        "       ant_row, ant_col = self.get_ant_position()\n",
        "       ant_color = self.grid.get_value(ant_row, ant_col)\n",
        "       self.grid.flip_value(ant_row, ant_col)\n",
        "\n",
        "       if ant_color == self.grid.state_values[0]:  \n",
        "        if self.ant_direction == \"up\":\n",
        "            new_col = ant_col + 1\n",
        "            if new_col < self.grid.cols:\n",
        "                self.ant_col = new_col\n",
        "                self.ant_direction = \"right\"\n",
        "        elif self.ant_direction == \"right\":\n",
        "            new_row = ant_row + 1\n",
        "            if new_row < self.grid.rows:\n",
        "                self.ant_row = new_row\n",
        "                self.ant_direction = \"down\"\n",
        "        elif self.ant_direction == \"down\":\n",
        "            new_col = ant_col - 1\n",
        "            if new_col >= 0:\n",
        "                self.ant_col = new_col\n",
        "                self.ant_direction = \"left\"\n",
        "        elif self.ant_direction == \"left\":\n",
        "            new_row = ant_row - 1\n",
        "            if new_row >= 0:\n",
        "                self.ant_row = new_row\n",
        "                self.ant_direction = \"up\"\n",
        "\n",
        "       elif ant_color == self.grid.state_values[1]:  \n",
        "        if self.ant_direction == \"up\":\n",
        "            new_col = ant_col - 1\n",
        "            if new_col >= 0:\n",
        "                self.ant_col = new_col\n",
        "                self.ant_direction = \"left\"\n",
        "        elif self.ant_direction == \"right\":\n",
        "            new_row = ant_row - 1\n",
        "            if new_row >= 0:\n",
        "                self.ant_row = new_row\n",
        "                self.ant_direction = \"up\"\n",
        "        elif self.ant_direction == \"down\":\n",
        "            new_col = ant_col + 1\n",
        "            if new_col < self.grid.cols:\n",
        "                self.ant_col = new_col\n",
        "                self.ant_direction = \"right\"\n",
        "        elif self.ant_direction == \"left\":\n",
        "            new_row = ant_row + 1\n",
        "            if new_row < self.grid.rows:\n",
        "                self.ant_row = new_row\n",
        "                self.ant_direction = \"down\"\n",
        "        \n",
        "        \n",
        "    def draw(self, ax):\n",
        "        ant_row, ant_col = self.get_ant_position()\n",
        "        ax.clear()\n",
        "        ax.imshow(self.grid.grid, cmap=\"binary\")\n",
        "        ax.add_artist(Circle((ant_col + 0.5, ant_row + 0.5), 0.4, color=\"red\"))\n",
        "         \n",
        "      \n",
        "    def __repr__(self):\n",
        "        return f\"LangtonsAnt({self.grid}, {self.ant_row}, {self.ant_col}, {self.ant_direction})\"\n"
      ],
      "metadata": {
        "id": "O5_do8FNs4n2"
      },
      "execution_count": 36,
      "outputs": []
    },
    {
      "cell_type": "markdown",
      "source": [
        "####The Experiment \n",
        "\n",
        "The red dot which represents the ant seems to start off moving in a fairly simple and self contained way. However, for longer time steps it starts to become more chaotic and random."
      ],
      "metadata": {
        "id": "Of3VR8CgXmTb"
      }
    },
    {
      "cell_type": "code",
      "source": [
        "ant = LangtonsAnt(rows=50, cols=50, state_values=[0, 1], ant_row=25, ant_col=25, ant_direction=\"up\")\n",
        "anim = Animation2D(ant, frames=300, figsize=(6, 6))\n",
        "anim.animate(interval=0.05)\n",
        "\n"
      ],
      "metadata": {
        "colab": {
          "base_uri": "https://localhost:8080/",
          "height": 523
        },
        "id": "Ylc8EacPzt9T",
        "outputId": "098c4358-9beb-4dd9-f507-0a3c346a2b18"
      },
      "execution_count": 37,
      "outputs": [
        {
          "output_type": "display_data",
          "data": {
            "text/plain": [
              "<Figure size 600x600 with 1 Axes>"
            ],
            "image/png": "[encoded data removed]"
          },
          "metadata": {}
        }
      ]
    },
    {
      "cell_type": "markdown",
      "source": [
        "Since it can take a long time to run 11,000 timesteps I plotted the final state after 11,000 time steps to observe what behaviour emerges. The langtons ant seems to come to regular behaviour in the last hundred time steps to build a highway "
      ],
      "metadata": {
        "id": "x59X-s8LZy93"
      }
    },
    {
      "cell_type": "code",
      "source": [
        "ant = LangtonsAnt(rows=100, cols=100, state_values=[0, 1], ant_row=50, ant_col=50, ant_direction=\"up\")\n",
        "\n",
        "\n",
        "for i in range(11000):\n",
        "    ant.step()\n",
        "\n",
        "\n",
        "fig, ax = plt.subplots()\n",
        "ant.draw(ax)\n",
        "plt.axis('off')\n",
        "plt.savefig('langtons_ant.png', dpi=300, bbox_inches='tight')\n"
      ],
      "metadata": {
        "colab": {
          "base_uri": "https://localhost:8080/",
          "height": 406
        },
        "id": "bAnhpZbvAI6x",
        "outputId": "9d21fcf6-50cb-4d8d-9a2b-2ab46049e5f9"
      },
      "execution_count": 45,
      "outputs": [
        {
          "output_type": "display_data",
          "data": {
            "text/plain": [
              "<Figure size 640x480 with 1 Axes>"
            ],
            "image/png": "[encoded data removed]"
          },
          "metadata": {}
        }
      ]
    },
    {
      "cell_type": "markdown",
      "source": [
        "Here is another Langton ant with some more state values and the ant direction as down. "
      ],
      "metadata": {
        "id": "f4m56peMfg-y"
      }
    },
    {
      "cell_type": "code",
      "source": [
        "ant2 = LangtonsAnt(rows=50, cols=50, state_values=[0, 1, 2, 3, 4, 5], ant_row=25, ant_col=25, ant_direction=\"down\")\n",
        "anim = Animation2D(ant2, frames=300, figsize=(6, 6))\n",
        "anim.animate(interval=0.05)"
      ],
      "metadata": {
        "colab": {
          "base_uri": "https://localhost:8080/",
          "height": 523
        },
        "id": "mUsAUJZVb_VD",
        "outputId": "cf3e4f61-900b-4078-fe4a-9517d0cf0951"
      },
      "execution_count": 39,
      "outputs": [
        {
          "output_type": "display_data",
          "data": {
            "text/plain": [
              "<Figure size 600x600 with 1 Axes>"
            ],
            "image/png": "[encoded data removed]"
          },
          "metadata": {}
        }
      ]
    },
    {
      "cell_type": "markdown",
      "source": [
        "after plotting it for 11000 timesteps it seems to become chaotic and result in a different looking pattern then the first ant"
      ],
      "metadata": {
        "id": "m6gKECYvk2NW"
      }
    },
    {
      "cell_type": "code",
      "source": [
        "ant2 = LangtonsAnt(rows=50, cols=50, state_values=[0, 1, 2], ant_row=25, ant_col=25, ant_direction=\"down\")\n",
        "\n",
        "\n",
        "for i in range(11000):\n",
        "    ant2.step()\n",
        "\n",
        "\n",
        "fig, ax = plt.subplots()\n",
        "ant2.draw(ax)\n",
        "plt.axis('off')\n",
        "plt.savefig('langtons_ant.png', dpi=300, bbox_inches='tight')"
      ],
      "metadata": {
        "colab": {
          "base_uri": "https://localhost:8080/",
          "height": 406
        },
        "id": "LY1YF4Ulhxm-",
        "outputId": "94f32ea1-151d-4481-abeb-75662c05c9b7"
      },
      "execution_count": 40,
      "outputs": [
        {
          "output_type": "display_data",
          "data": {
            "text/plain": [
              "<Figure size 640x480 with 1 Axes>"
            ],
            "image/png": "[encoded data removed]"
          },
          "metadata": {}
        }
      ]
    },
    {
      "cell_type": "markdown",
      "source": [
        "#### Algorithim Analysis\n",
        "The Langton's ant algorithm involves updating the state of a cell and moving the ant to the next cell based on certain rules. This process is repeated for a fixed number of frames. The time complexity of updating a cell and moving the ant is O(1) since it involves simple operations like accessing and modifying array elements which can be done in constant time. Therefore, the overall time complexity of the algorithm is O(T), where T is the number of frames. The. time taken for larger or longer CA experiments will increase linearly with the number of frames. This means that the code may become slow for very large values of T. Below will be some timings of the experiment to support this analysis"
      ],
      "metadata": {
        "id": "SyGazrQaoCeq"
      }
    },
    {
      "cell_type": "code",
      "source": [
        "def ant():\n",
        "    ant = LangtonsAnt(rows=50, cols=50, state_values=[0, 1], ant_row=25, ant_col=25, ant_direction=\"up\")\n",
        "    anim = Animation2D(ant, frames=300, figsize=(6, 6))\n",
        "    return anim.animate(interval=0.05)\n",
        "\n",
        "totaltime = timeit.timeit(ant, number=1)\n",
        "\n",
        "print(\"Execution time: \", totaltime, \"seconds\")\n"
      ],
      "metadata": {
        "colab": {
          "base_uri": "https://localhost:8080/",
          "height": 540
        },
        "id": "ncWx5jFjPeop",
        "outputId": "4ca5749f-2dd5-436e-dd1f-c9a12326162b"
      },
      "execution_count": 41,
      "outputs": [
        {
          "output_type": "display_data",
          "data": {
            "text/plain": [
              "<Figure size 600x600 with 1 Axes>"
            ],
            "image/png": "[encoded data removed]"
          },
          "metadata": {}
        },
        {
          "output_type": "stream",
          "name": "stdout",
          "text": [
            "Execution time:  86.27932690900025 seconds\n"
          ]
        }
      ]
    },
    {
      "cell_type": "code",
      "source": [
        "def ant2():\n",
        "    ant2 = LangtonsAnt(rows=50, cols=50, state_values=[0, 1, 2, 3, 4, 5], ant_row=25, ant_col=25, ant_direction=\"down\")\n",
        "    anim = Animation2D(ant2, frames=300, figsize=(6, 6))\n",
        "    return anim.animate(interval=0.05)\n",
        "\n",
        "totaltime = timeit.timeit(ant2, number=1)\n",
        "\n",
        "print(\"Execution time: \", totaltime, \"seconds\")\n"
      ],
      "metadata": {
        "colab": {
          "base_uri": "https://localhost:8080/",
          "height": 540
        },
        "id": "3SaoZ72yS7YO",
        "outputId": "2d1799f0-417d-43a6-fe27-6616886b4b7d"
      },
      "execution_count": 42,
      "outputs": [
        {
          "output_type": "display_data",
          "data": {
            "text/plain": [
              "<Figure size 600x600 with 1 Axes>"
            ],
            "image/png": "[encoded data removed]"
          },
          "metadata": {}
        },
        {
          "output_type": "stream",
          "name": "stdout",
          "text": [
            "Execution time:  82.15180360000022 seconds\n"
          ]
        }
      ]
    },
    {
      "cell_type": "markdown",
      "source": [
        "####Efficiency improvements\n",
        "\n",
        "In chapter 8 some efficiency improvements were noted so I will try to implement them to see if they change the time complexity and if it reduces the multiplicative coefficient (linear improvement) or the constant (overhead). Below is the updated version of langtons ant with the improvements "
      ],
      "metadata": {
        "id": "w0r4KLsUZu8_"
      }
    },
    {
      "cell_type": "code",
      "source": [
        "class LangtonAnt2:\n",
        "    def __init__(self, width, height, steps, ant_x=None, ant_y=None):\n",
        "        self.width = width\n",
        "        self.height = height\n",
        "        self.steps = steps\n",
        "        self.grid = np.zeros((height, width), dtype=np.uint8)\n",
        "        self.ant_x = ant_x if ant_x is not None else width // 2\n",
        "        self.ant_y = ant_y if ant_y is not None else height // 2\n",
        "        self.ant_dir = 0  # 0: up, 1: right, 2: down, 3: left\n",
        "        \n",
        "        self.kernel = np.array([[1, 1, 1],\n",
        "                                [1,10, 1],\n",
        "                                [1, 1, 1]])\n",
        "        self.table = np.zeros(20, dtype=np.uint8)\n",
        "        self.table[[3, 12, 13]] = 1\n",
        "        \n",
        "    def step(self):\n",
        "        self.update()\n",
        "\n",
        "    def update(self):\n",
        "        x, y = self.ant_x, self.ant_y\n",
        "        if self.grid[y, x] == 0:  # turn left\n",
        "            self.ant_dir = (self.ant_dir - 1) % 4\n",
        "            self.grid[y, x] = 1\n",
        "        else:  # turn right\n",
        "            self.ant_dir = (self.ant_dir + 1) % 4\n",
        "            self.grid[y, x] = 0\n",
        "        dx, dy = [(0, -1), (1, 0), (0, 1), (-1, 0)][self.ant_dir]\n",
        "        self.ant_x = (x + dx) % self.width\n",
        "        self.ant_y = (y + dy) % self.height\n",
        "\n",
        "    def draw(self, ax):\n",
        "        ax.imshow(self.grid, cmap='binary')\n",
        "        ax.scatter(self.ant_x, self.ant_y, color='red')\n",
        "        ax.axis('off')\n"
      ],
      "metadata": {
        "id": "km-ql9BrZ-66"
      },
      "execution_count": 43,
      "outputs": []
    },
    {
      "cell_type": "code",
      "source": [
        "def Langtonsant2():\n",
        "    ant = LangtonAnt2(100, 100, 5000)\n",
        "    anim = Animation2D(ant, frames=300)\n",
        "    return anim.animate(interval=0.05)\n",
        "\n",
        "totaltime = timeit.timeit(Langtonsant2, number=1)\n",
        "\n",
        "print(\"Execution time: \", totaltime, \"seconds\")\n"
      ],
      "metadata": {
        "colab": {
          "base_uri": "https://localhost:8080/",
          "height": 670
        },
        "id": "tP88tqSvfYVf",
        "outputId": "3b719a9f-ab72-4325-f2d5-a03963fdf6b1"
      },
      "execution_count": 44,
      "outputs": [
        {
          "output_type": "display_data",
          "data": {
            "text/plain": [
              "<Figure size 800x800 with 1 Axes>"
            ],
            "image/png": "[encoded data removed]"
          },
          "metadata": {}
        },
        {
          "output_type": "stream",
          "name": "stdout",
          "text": [
            "Execution time:  52.10418775400012 seconds\n"
          ]
        }
      ]
    },
    {
      "cell_type": "markdown",
      "source": [
        "Compared to the original langtons ant this new langtons ant seems to run faster and be more efficeint. However, it doesn't seem to change the overall Big-O time complexity compared to the original. It seems like the new version reduces the constant overhead more than the multiplicative coefficient. The use of a kernel-based approach for updating the grid and a lookup table for determining the ant's behavior both involve fixed-size operations that can be efficiently computed using numpy array operations. This reduces the overhead of looping over each cell and checking its value, which was necessary in the original implementation"
      ],
      "metadata": {
        "id": "PBhUHfGLpelH"
      }
    }
  ]
}